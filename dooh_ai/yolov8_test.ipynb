{
 "cells": [
  {
   "cell_type": "markdown",
   "id": "a715038e",
   "metadata": {},
   "source": [
    "### Dooh AR Senior D - AI Team - Barnatt Wu and Johnathan Vu\n",
    "#### The following notebook is used to experiment with the yolov7-tiny model to make it compatible with our data and Snap's Lens Studio"
   ]
  },
  {
   "cell_type": "markdown",
   "id": "18b2bbdb",
   "metadata": {},
   "source": [
    "Download data\n",
    "Some links:\n",
    "https://docs.ultralytics.com/guides/hyperparameter-tuning/\n"
   ]
  },
  {
   "cell_type": "code",
   "execution_count": null,
   "id": "d4b48f0d",
   "metadata": {},
   "outputs": [],
   "source": [
    "import urllib.request, os\n",
    "\n",
    "# download the model's weights \n",
    "# NOTE: the model is not compatible with the ultralytics library\n",
    "\n",
    "os.makedirs(\"./models/yolov7_tiny/weights\", exist_ok=True)\n",
    "url = \"https://github.com/WongKinYiu/yolov7/releases/download/v0.1/yolov7-tiny.pt\"\n",
    "save_path = \"./models/yolov7_tiny/weights/yolov7-tiny.pt\"\n",
    "\n",
    "urllib.request.urlretrieve(url, save_path)\n",
    "print(\"Downloaded:\", save_path)"
   ]
  },
  {
   "cell_type": "code",
   "execution_count": null,
   "id": "e49b9bf1",
   "metadata": {},
   "outputs": [],
   "source": [
    "from ultralytics import YOLO\n",
    "\n",
    "# import and intialize yolo model weights (.pt)\n",
    "# model = YOLO(\"yolov8n.pt\")\n",
    "model = YOLO(\"./models/yolov8/yolov8n.pt\")\n",
    "\n",
    "\n",
    "# fine-tune model on training data\n",
    "# TO-DO: Download and set up datasets, write yaml file, and train the model\n",
    "\n",
    "# test, evaluate, etc."
   ]
  },
  {
   "cell_type": "code",
   "execution_count": null,
   "id": "c875d350",
   "metadata": {},
   "outputs": [],
   "source": [
    "# quantize and export the model. If model size is still too big, try pruning the model\n",
    "model.export(\n",
    "    format=\"onnx\",\n",
    "    half=True,\n",
    "    simplify=True,\n",
    "    dynamic=False,\n",
    "    project=\"./models/yolov8\",\n",
    "    name=\"yolov8n_fp16\"\n",
    ")"
   ]
  },
  {
   "cell_type": "code",
   "execution_count": null,
   "id": "3173fb6c",
   "metadata": {},
   "outputs": [],
   "source": [
    "# exmaple usage of the model\n",
    "from PIL import Image\n",
    "import matplotlib.pyplot as plt\n",
    "\n",
    "# Load the pretrained model\n",
    "\n",
    "# Run inference on an image\n",
    "results = model(\"test_wtc.jpg\", imgsz=640)\n",
    "\n",
    "# Show results inline\n",
    "for r in results:\n",
    "    im_array = r.plot()  # render detections\n",
    "    im = Image.fromarray(im_array)\n",
    "    plt.imshow(im)\n",
    "    plt.axis(\"off\")\n",
    "    plt.show()\n",
    "\n",
    "url = \"https://ultralytics.com/images/zidane.jpg\"\n",
    "results = model(url, imgsz=640)\n",
    "\n",
    "for r in results:\n",
    "    im_array = r.plot()\n",
    "    im = Image.fromarray(im_array)\n",
    "    plt.imshow(im)\n",
    "    plt.axis(\"off\")\n",
    "    plt.show()"
   ]
  },
  {
   "cell_type": "code",
   "execution_count": null,
   "id": "d30c65e8",
   "metadata": {},
   "outputs": [],
   "source": [
    "from dotenv import load_dotenv\n",
    "from roboflow import Roboflow\n",
    "import os\n",
    "\n",
    "load_dotenv()\n",
    "\n",
    "roboflow_api_key = os.getenv(\"ROBOFLOW_API_KEY\")\n",
    "\n",
    "rf = Roboflow(api_key=roboflow_api_key)\n",
    "project = rf.workspace().project(\"dooh-ar-senior-d-vnzov\")\n",
    "dataset = project.version(1).download(\"yolov8\")"
   ]
  },
  {
   "cell_type": "code",
   "execution_count": null,
   "id": "c47b4f1b",
   "metadata": {},
   "outputs": [],
   "source": [
    "# Fine-tune YOLOv8 model on your WTC dataset\n",
    "from ultralytics import YOLO\n",
    "import os\n",
    "\n",
    "project_root = os.path.dirname(os.path.abspath(__file__)) if \"__file__\" in globals() else os.getcwd()\n",
    "print(\"Current working directory:\", project_root)\n",
    "\n",
    "data_yaml_path = os.path.join(project_root, \"ml_training\", \"data.yaml\")\n",
    "\n",
    "# Load pre-trained model\n",
    "model = YOLO(\"./models/yolov8/yolov8n.pt\")\n",
    "\n",
    "# Train the model on your dataset\n",
    "results = model.train(\n",
    "    data=data_yaml_path,\n",
    "    epochs=25,\n",
    "    batch=16,\n",
    "    lr0=0.01,\n",
    "    exist_ok=True,\n",
    "    plots=True,\n",
    "    val=True,\n",
    ")\n",
    "\n",
    "print(\"Training completed!\")\n",
    "print(f\"Results saved to: {results.save_dir}\")\n"
   ]
  },
  {
   "cell_type": "code",
   "execution_count": null,
   "id": "666cdd71",
   "metadata": {},
   "outputs": [],
   "source": [
    "print(results)"
   ]
  },
  {
   "cell_type": "code",
   "execution_count": null,
   "id": "9ccd4976",
   "metadata": {},
   "outputs": [],
   "source": [
    "# Export the fine-tuned model to ONNX format for deployment\n",
    "model.export(\n",
    "    format=\"onnx\",\n",
    "    half=True,           # Use FP16 precision for smaller model size\n",
    "    simplify=True,       # Simplify the ONNX model\n",
    "    dynamic=False,       # Static input shapes for better optimization\n",
    "    project=\"./models/yolov8\",\n",
    "    name=\"yolov8n_wtc_finetuned\"\n",
    ")\n",
    "\n",
    "print(\"Model exported to ONNX format!\")\n"
   ]
  },
  {
   "cell_type": "code",
   "execution_count": null,
   "id": "90c1d043",
   "metadata": {},
   "outputs": [],
   "source": [
    "# Test the fine-tuned model on your test image\n",
    "from PIL import Image\n",
    "import matplotlib.pyplot as plt\n",
    "\n",
    "# Load the fine-tuned model\n",
    "finetuned_model = YOLO(\"./models/yolov8/yolov8n_wtc_finetuned.onnx\")\n",
    "\n",
    "# Run inference on test image\n",
    "results = finetuned_model(\"test_wtc.JPG\", imgsz=640)\n",
    "\n",
    "# Display results\n",
    "for r in results:\n",
    "    im_array = r.plot()  # render detections\n",
    "    im = Image.fromarray(im_array)\n",
    "    plt.figure(figsize=(12, 8))\n",
    "    plt.imshow(im)\n",
    "    plt.axis(\"off\")\n",
    "    plt.title(\"Fine-tuned YOLOv8 Results on WTC Dataset\")\n",
    "    plt.show()\n",
    "    \n",
    "    # Print detection results\n",
    "    print(\"Detection Results:\")\n",
    "    for box in r.boxes:\n",
    "        class_id = int(box.cls[0])\n",
    "        confidence = float(box.conf[0])\n",
    "        print(f\"Class: {r.names[class_id]}, Confidence: {confidence:.3f}\")\n"
   ]
  },
  {
   "cell_type": "code",
   "execution_count": null,
   "id": "d89d7dfa",
   "metadata": {},
   "outputs": [],
   "source": []
  }
 ],
 "metadata": {
  "kernelspec": {
   "display_name": ".venv",
   "language": "python",
   "name": "python3"
  },
  "language_info": {
   "codemirror_mode": {
    "name": "ipython",
    "version": 3
   },
   "file_extension": ".py",
   "mimetype": "text/x-python",
   "name": "python",
   "nbconvert_exporter": "python",
   "pygments_lexer": "ipython3",
   "version": "3.12.11"
  }
 },
 "nbformat": 4,
 "nbformat_minor": 5
}
