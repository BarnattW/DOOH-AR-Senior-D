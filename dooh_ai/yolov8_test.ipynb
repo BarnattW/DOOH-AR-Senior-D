{
 "cells": [
  {
   "cell_type": "markdown",
   "id": "a715038e",
   "metadata": {},
   "source": [
    "### Dooh AR Senior D - AI Team - Barnatt Wu and Johnathan Vu\n",
    "#### The following notebook is used to experiment with the yolov7-tiny model to make it compatible with our data and Snap's Lens Studio"
   ]
  },
  {
   "cell_type": "markdown",
   "id": "18b2bbdb",
   "metadata": {},
   "source": [
    "Download data\n",
    "Some links:\n",
    "https://docs.ultralytics.com/guides/hyperparameter-tuning/\n"
   ]
  },
  {
   "cell_type": "code",
   "execution_count": null,
   "id": "d4b48f0d",
   "metadata": {},
   "outputs": [],
   "source": [
    "import urllib.request, os\n",
    "\n",
    "# download the model's weights \n",
    "# NOTE: the model is not compatible with the ultralytics library\n",
    "\n",
    "os.makedirs(\"./models/yolov7_tiny/weights\", exist_ok=True)\n",
    "url = \"https://github.com/WongKinYiu/yolov7/releases/download/v0.1/yolov7-tiny.pt\"\n",
    "save_path = \"./models/yolov7_tiny/weights/yolov7-tiny.pt\"\n",
    "\n",
    "urllib.request.urlretrieve(url, save_path)\n",
    "print(\"Downloaded:\", save_path)"
   ]
  },
  {
   "cell_type": "code",
   "execution_count": null,
   "id": "e49b9bf1",
   "metadata": {},
   "outputs": [],
   "source": [
    "from ultralytics import YOLO\n",
    "\n",
    "# import and intialize yolo model weights (.pt)\n",
    "# model = YOLO(\"yolov8n.pt\")\n",
    "model = YOLO(\"./models/yolov8/yolov8n.pt\")\n",
    "\n",
    "\n",
    "# fine-tune model on training data\n",
    "# TO-DO: Download and set up datasets, write yaml file, and train the model\n",
    "\n",
    "# test, evaluate, etc."
   ]
  },
  {
   "cell_type": "code",
   "execution_count": null,
   "id": "c875d350",
   "metadata": {},
   "outputs": [],
   "source": [
    "# quantize and export the model. If model size is still too big, try pruning the model\n",
    "model.export(\n",
    "    format=\"onnx\",\n",
    "    half=True,\n",
    "    simplify=True,\n",
    "    dynamic=False,\n",
    "    project=\"./models/yolov8\",\n",
    "    name=\"yolov8n_fp16\"\n",
    ")"
   ]
  },
  {
   "cell_type": "code",
   "execution_count": null,
   "id": "3173fb6c",
   "metadata": {},
   "outputs": [],
   "source": [
    "# exmaple usage of the model\n",
    "from PIL import Image\n",
    "import matplotlib.pyplot as plt\n",
    "\n",
    "# Load the pretrained model\n",
    "model = YOLO(\"./models/yolov8/yolov8n.onnx\")  # or yolov8n.pt\n",
    "\n",
    "# Run inference on an image\n",
    "results = model(\"test_wtc.jpg\", imgsz=640)\n",
    "\n",
    "# Show results inline\n",
    "for r in results:\n",
    "    im_array = r.plot()  # render detections\n",
    "    im = Image.fromarray(im_array)\n",
    "    plt.imshow(im)\n",
    "    plt.axis(\"off\")\n",
    "    plt.show()\n",
    "\n",
    "url = \"https://ultralytics.com/images/zidane.jpg\"\n",
    "results = model(url, imgsz=640)\n",
    "\n",
    "for r in results:\n",
    "    im_array = r.plot()\n",
    "    im = Image.fromarray(im_array)\n",
    "    plt.imshow(im)\n",
    "    plt.axis(\"off\")\n",
    "    plt.show()"
   ]
  },
  {
   "cell_type": "code",
   "execution_count": null,
   "id": "d89d7dfa",
   "metadata": {},
   "outputs": [],
   "source": []
  }
 ],
 "metadata": {
  "kernelspec": {
   "display_name": ".venv",
   "language": "python",
   "name": "python3"
  },
  "language_info": {
   "codemirror_mode": {
    "name": "ipython",
    "version": 3
   },
   "file_extension": ".py",
   "mimetype": "text/x-python",
   "name": "python",
   "nbconvert_exporter": "python",
   "pygments_lexer": "ipython3",
   "version": "3.12.11"
  }
 },
 "nbformat": 4,
 "nbformat_minor": 5
}
